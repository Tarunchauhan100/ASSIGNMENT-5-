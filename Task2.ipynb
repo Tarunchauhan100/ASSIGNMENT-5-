{
 "cells": [
  {
   "cell_type": "markdown",
   "id": "c6654a8a-60fb-449c-8eee-5f75f443b93f",
   "metadata": {},
   "source": [
    "# Task 2:Demonstrate List Slicing "
   ]
  },
  {
   "cell_type": "code",
   "execution_count": 3,
   "id": "df3a6326-82c6-4ca4-b7c7-9b8fe41caa65",
   "metadata": {},
   "outputs": [
    {
     "name": "stdout",
     "output_type": "stream",
     "text": [
      "Original List :  [1, 2, 3, 4, 5, 6, 7, 8, 9, 10]\n",
      "Extracted First five elements: [1, 2, 3, 4, 5]\n",
      "Reversed List: [5, 4, 3, 2, 1]\n"
     ]
    }
   ],
   "source": [
    "# Step 1: Create a list of numbers from 1 to 10\n",
    "numbers = [1, 2, 3, 4, 5, 6, 7, 8, 9, 10]\n",
    "\n",
    "# Step 2: Extract the first five elements\n",
    "first_five = numbers[:5]\n",
    "\n",
    "# Step 3: Reverse these extracted elements\n",
    "reversed_list = first_five[::-1]\n",
    "\n",
    "# Step 4: Print both the extracted list and the reversed list\n",
    "print(\"Original List : \",numbers)\n",
    "print(\"Extracted First five elements:\", first_five)\n",
    "print(\"Reversed List:\", reversed_list)"
   ]
  },
  {
   "cell_type": "code",
   "execution_count": null,
   "id": "7af8ea61-b719-42f8-8712-4835b2c33c86",
   "metadata": {},
   "outputs": [],
   "source": []
  }
 ],
 "metadata": {
  "kernelspec": {
   "display_name": "Python 3 (ipykernel)",
   "language": "python",
   "name": "python3"
  },
  "language_info": {
   "codemirror_mode": {
    "name": "ipython",
    "version": 3
   },
   "file_extension": ".py",
   "mimetype": "text/x-python",
   "name": "python",
   "nbconvert_exporter": "python",
   "pygments_lexer": "ipython3",
   "version": "3.13.7"
  }
 },
 "nbformat": 4,
 "nbformat_minor": 5
}
