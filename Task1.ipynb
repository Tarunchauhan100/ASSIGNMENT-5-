{
 "cells": [
  {
   "cell_type": "markdown",
   "id": "67c64bbf-e3a7-4193-9fc9-e16b78fa3380",
   "metadata": {},
   "source": [
    "# Task 1: Create a Dictionary of Student Marks \n"
   ]
  },
  {
   "cell_type": "code",
   "execution_count": 23,
   "id": "42489662-454e-4425-a734-5846330fc2ff",
   "metadata": {},
   "outputs": [
    {
     "name": "stdin",
     "output_type": "stream",
     "text": [
      "Enter the student's name:  mdjd\n"
     ]
    },
    {
     "name": "stdout",
     "output_type": "stream",
     "text": [
      "Student not Found.\n"
     ]
    }
   ],
   "source": [
    "# Program: Retrieve Student Marks from Dictionary\n",
    "\n",
    "# Step 1: Create a dictionary with student names and their marks\n",
    "students = {\n",
    "    \"amit\": 85,\n",
    "    \"neha\": 92,\n",
    "    \"rohit\": 76,\n",
    "    \"priya\": 89,\n",
    "    \"tarun\": 95\n",
    "}\n",
    "\n",
    "# Step 2: Ask the user to input a student's name\n",
    "name = input(\"Enter the student's name: \")\n",
    "\n",
    "\n",
    "# Step 3: Retrieve and display the corresponding marks\n",
    "if name in students:\n",
    "  print(name,\"'s marks:\", students[name])\n",
    "# Step 4: If the student’s name is not found, display a message\n",
    "else:\n",
    "    print(\"Student not Found.\")\n"
   ]
  },
  {
   "cell_type": "code",
   "execution_count": null,
   "id": "74072081-114e-4d92-827b-6e63886b3427",
   "metadata": {},
   "outputs": [],
   "source": []
  }
 ],
 "metadata": {
  "kernelspec": {
   "display_name": "Python 3 (ipykernel)",
   "language": "python",
   "name": "python3"
  },
  "language_info": {
   "codemirror_mode": {
    "name": "ipython",
    "version": 3
   },
   "file_extension": ".py",
   "mimetype": "text/x-python",
   "name": "python",
   "nbconvert_exporter": "python",
   "pygments_lexer": "ipython3",
   "version": "3.13.7"
  }
 },
 "nbformat": 4,
 "nbformat_minor": 5
}
